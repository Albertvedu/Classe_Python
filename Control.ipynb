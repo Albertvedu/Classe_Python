{
  "cells": [
    {
      "cell_type": "markdown",
      "metadata": {
        "id": "pQF8V0klUqUn"
      },
      "source": [
        "\n",
        "<div id=\"capcalera\">\n",
        "<p><a href=\"https://colab.research.google.com/github/algorismica2020/algorismica2020.github.io/blob/master/notebookscolab/Control.ipynb\"><img style=\"margin:-10px 10px 20px 0\" width=\"150px\" align=\"right\" src=\"https://raw.githubusercontent.com/algorismica2019/problemes/master/assets/colab-badge.png?raw=1\" alt=\"Obrir a Colab\" title=\"Obrir i executar a Google Colaboratory\"></a></p>\n",
        "<p style=\"clear:both\"><img align='left' width=\"300px\" style=\"padding-right:10px;float=left\" src=\"https://raw.githubusercontent.com/algorismica2019/problemes/master/assets/al-khwarizmi.png\">Aquest notebook complementa els continguts teòrics de l'assignatura d'<strong>Algorísmica</strong> del Grau d'Enginyeria Informàtica a la <a href=\"https://mat.ub.edu\">Facultat de Matemàtiques i Informàtica</a> de la <a href=\"https://www.ub.edu\">Universitat de Barcelona</a> impartida per <em>Jordi Vitrià</em> i <em>Mireia Ribera</em></p>\n",
        "\n",
        "<p>Els problemes s'ofereixen sota llicència <a href=\"https://creativecommons.org/licenses/by-nc-nd/3.0/us/legalcode\">CC-BY-NC-ND license</a>, i el codi sota <a href=\"https://opensource.org/licenses/MIT\">Llicència MIT</a>.</p>\n",
        "\n",
        "</div>"
      ]
    },
    {
      "cell_type": "markdown",
      "metadata": {
        "id": "pqH3j4PvUqUq"
      },
      "source": [
        "# <span class=\"tema\">(Python)</span> Estructures de control"
      ]
    },
    {
      "cell_type": "markdown",
      "metadata": {
        "id": "FmqpMn04UqUq"
      },
      "source": [
        "## Documentació de Python relacionada\n",
        "\n",
        "- Compound statements: https://docs.python.org/3/reference/compound_stmts.html"
      ]
    },
    {
      "cell_type": "markdown",
      "metadata": {
        "id": "JSXkpYGgUqUr"
      },
      "source": [
        "## Introducció\n",
        "\n",
        "Les estructures de control ens permeten alterar la seqüència d'execució de les instruccions d'un programa.\n",
        "\n",
        "Sense elles els programes s'executarien sempre línia a línia."
      ]
    },
    {
      "cell_type": "markdown",
      "metadata": {
        "id": "ZiAPbZJsUqUr"
      },
      "source": [
        "## Condicionals\n",
        "\n",
        "Podem decidir quin codi executar a partir d’una comprovació amb if,elif i else. \n",
        "\n",
        "El programa primer avaluarà la condició de l’if, i si es compleix executarà el codi indentat a continuació. Si no es compleix passarà a avaluar la condició de l’elif (poden haver tants elifs com siguin necessaris o pot no haver-n'hi cap), i així fins a que cap es compleixi, cas en el què s’executaran les instruccions de l’else."
      ]
    },
    {
      "cell_type": "code",
      "execution_count": null,
      "metadata": {
        "id": "GxwTTynwUqUs",
        "outputId": "45b0fa69-9615-4084-f030-5f92275910a5"
      },
      "outputs": [
        {
          "name": "stdout",
          "output_type": "stream",
          "text": [
            "a és major que 4\n"
          ]
        }
      ],
      "source": [
        "# Exemple\n",
        "a = 5\n",
        "if a > 4:\n",
        "    print(\"a és major que 4\")\n",
        "elif a > 2:\n",
        "    print(\"a és major que 2 i igual o menor que 4\")\n",
        "else:\n",
        "    print(\"a és igual o menor que 2\")\n",
        "\n",
        "# Prova el mateix exemple canviant el valor d'a per a = 3 i per a = 1"
      ]
    },
    {
      "cell_type": "markdown",
      "metadata": {
        "id": "G3M4AmCcUqUt"
      },
      "source": [
        "Exercici 1\n",
        "\n",
        "Escriu una funció que donats quatre nombres comprovi si la suma dels dos primers és més gran que la suma dels dos darrers. Hem de tenir en compte també el cas que siguin iguals!\n",
        "\n",
        "Genera tres casos tals que:\n",
        "1. El nombre més gran sigui la suma dels dos primers\n",
        "2. El nombre més gran sigui la suma dels dos darrers\n",
        "3. Els dos primers i els dos darrers sumin el mateix"
      ]
    },
    {
      "cell_type": "code",
      "execution_count": null,
      "metadata": {
        "id": "N4p2zprGUqUt"
      },
      "outputs": [],
      "source": []
    },
    {
      "cell_type": "markdown",
      "metadata": {
        "id": "Rnp7ODuVUqUu"
      },
      "source": [
        "## Iteracions\n",
        "\n",
        "Les iteracions són estructures que ens permeten repetir un conjunt d’instruccions amb diferents valors.\n",
        "La repetició ve determinada o bé pel compliment d'una condició o per un rang de valors a recorrer."
      ]
    },
    {
      "cell_type": "code",
      "execution_count": null,
      "metadata": {
        "id": "LbNaXL-AUqUu",
        "outputId": "0d759106-e19c-43c5-9b3b-6bdf6143bbe0"
      },
      "outputs": [
        {
          "name": "stdout",
          "output_type": "stream",
          "text": [
            "1\n",
            "2\n",
            "3\n",
            "4\n"
          ]
        }
      ],
      "source": [
        "# Exemple\n",
        "a = 1\n",
        "while (a < 5):\n",
        "    print(a)\n",
        "    a += 1    # A Python l'operació d'autoincrement s'escriu així\n",
        "\n",
        "# Prova el mateix exemple canviant el valor de la condició per 3 \n",
        "# i del valor inicial d'a per 4"
      ]
    },
    {
      "cell_type": "code",
      "execution_count": null,
      "metadata": {
        "id": "KRDSlhMvUqUv"
      },
      "outputs": [],
      "source": [
        "a = 3\n",
        "while (a < 13):\n",
        "    print(a)\n",
        "    a += 3    # A Python l'operació d'autoincrement s'escriu així\n"
      ]
    },
    {
      "cell_type": "code",
      "execution_count": null,
      "metadata": {
        "id": "dUSfK4NEUqUv"
      },
      "outputs": [],
      "source": [
        "a = 3\n",
        "while (a < 13):\n",
        "    print(a)\n"
      ]
    },
    {
      "cell_type": "markdown",
      "metadata": {
        "id": "Q74u9J_sUqUv"
      },
      "source": [
        "### Iteració while\n",
        "\n",
        "A la iteració while establim una condició de sortida. Mentre la condició sigui certa, les instruccions dins la iteració s'aniran repetint.\n",
        "\n",
        "Per tant és molt important verificar que la condició varia, ja sigui per l'entrada de l'usuari o perquè el programa incrementa la variable de la condició. Altrament podem crear bucles infinits que no acabaran mai.\n",
        "\n",
        "Aquest tipus d'iteració s'usa quan en temps de programació no es coneix en quin moment cal acabar la repetició d'instruccions."
      ]
    },
    {
      "cell_type": "code",
      "execution_count": null,
      "metadata": {
        "id": "Ufuk-FrMUqUv",
        "outputId": "1bdd83ad-6844-4100-b470-7134eabf43be"
      },
      "outputs": [
        {
          "name": "stdout",
          "output_type": "stream",
          "text": [
            "Introdueix un nombre menor que 5: 4\n",
            "molt bé, 4  és menor que 5\n"
          ]
        }
      ],
      "source": [
        "# Exemple\n",
        "a = int(input(\"Introdueix un nombre menor que 5: \"))\n",
        "while (a >= 5):\n",
        "    print(\"El nombre introduit no és menor que 5\")\n",
        "    a = int(input(\"Introdueix un nombre menor que 5: \"))\n",
        "print(\"molt bé,\", a, \" és menor que 5\")\n",
        "# prova diverses execucions del codi"
      ]
    },
    {
      "cell_type": "markdown",
      "metadata": {
        "id": "8jWglO7cUqUw"
      },
      "source": [
        "### Iteració for\n",
        "\n",
        "A la iteració for hi ha una variable que va prenent valors dins un rang. Aquesta variable pot ser numèrica però també pot ser de qualsevol altre tipus si el rang és una llista d'aquest tipus.\n",
        "\n",
        "Si s'usa una variable numèrica se sol definir el valor inicial, el valor final i l'increment a cada iteració amb un rang segons el model start (valor inicial), stop (valor final al que no s'ha d'arribar), step (salt). \n",
        "\n",
        "Aquest tipus d'iteració s'usa quan en temps de programació es coneix exactament quan es començarà i quan s'acabarà el recorregut.\n"
      ]
    },
    {
      "cell_type": "code",
      "execution_count": null,
      "metadata": {
        "id": "4c1QClpsUqUw",
        "outputId": "63458321-c4b0-4d6e-edcd-54afc0362c9b"
      },
      "outputs": [
        {
          "name": "stdout",
          "output_type": "stream",
          "text": [
            "0\n",
            "1\n",
            "2\n",
            "3\n",
            "4\n",
            "5\n",
            "6\n",
            "7\n",
            "8\n",
            "9\n"
          ]
        }
      ],
      "source": [
        "# Exemple\n",
        "for i in range(0, 10): # valor inicial (start):0 \n",
        "                       # valor final (stop): 10 [no hi arriba]\n",
        "                       # increment (step): no s'indica, per defecte és 1\n",
        "    print(i)"
      ]
    },
    {
      "cell_type": "markdown",
      "metadata": {
        "id": "Yd-6I4ByUqUw"
      },
      "source": [
        "Fixeu-vos que el 10 no es mostra, ja que quan arriba a 10 surt del bucle."
      ]
    },
    {
      "cell_type": "code",
      "execution_count": null,
      "metadata": {
        "id": "zDp2zbXIUqUx",
        "outputId": "b8a1dc94-e546-449a-944f-680a73c14241"
      },
      "outputs": [
        {
          "name": "stdout",
          "output_type": "stream",
          "text": [
            "0\n",
            "1\n",
            "2\n",
            "3\n",
            "4\n"
          ]
        }
      ],
      "source": [
        "for i in range(5):\n",
        "    print(i)"
      ]
    },
    {
      "cell_type": "code",
      "execution_count": null,
      "metadata": {
        "id": "qAnpsd-NUqUx",
        "outputId": "615bfef4-a6e6-4b36-9316-970a71dd3468"
      },
      "outputs": [
        {
          "name": "stdout",
          "output_type": "stream",
          "text": [
            "2\n",
            "3\n",
            "4\n",
            "5\n"
          ]
        }
      ],
      "source": [
        "for i in range(2,6):\n",
        "    print(i)"
      ]
    },
    {
      "cell_type": "code",
      "execution_count": null,
      "metadata": {
        "id": "Lvr6qAs1UqUx",
        "outputId": "ce785473-fc34-4fbd-9b7c-2b7f714395c8"
      },
      "outputs": [
        {
          "name": "stdout",
          "output_type": "stream",
          "text": [
            "10\n",
            "15\n",
            "20\n",
            "25\n",
            "30\n",
            "35\n"
          ]
        }
      ],
      "source": [
        "for j in range(10,40,5):\n",
        "    print(j)    "
      ]
    },
    {
      "cell_type": "code",
      "execution_count": null,
      "metadata": {
        "id": "JzGewwtXUqUx",
        "outputId": "0562afd9-9612-4c21-cafe-46de6654052b"
      },
      "outputs": [
        {
          "name": "stdout",
          "output_type": "stream",
          "text": [
            "0\n",
            "2\n",
            "4\n",
            "6\n",
            "8\n"
          ]
        }
      ],
      "source": [
        "# Exemple\n",
        "for i in range(0, 10, 2):  # valor inicial:0 \n",
        "                           # valor final: 10 [quan hi arriba surt, no itera]\n",
        "                           # increment: 2\n",
        "    print(i)"
      ]
    },
    {
      "cell_type": "code",
      "execution_count": null,
      "metadata": {
        "id": "tqG3Df5dUqUx"
      },
      "outputs": [],
      "source": [
        "# Exemple\n",
        "for i in range(10, 0, -5):  # valor inicial: 10 \n",
        "                            # valor final: 0 [quan hi arriba surt, no itera]\n",
        "                            # increment: -5\n",
        "    print(i)\n",
        "# Abans d'executar el codi, pensa quin resultat apareixerà"
      ]
    },
    {
      "cell_type": "code",
      "execution_count": null,
      "metadata": {
        "id": "MOkRbpZDUqUy"
      },
      "outputs": [],
      "source": [
        "# Exemple\n",
        "for animal in [\"gat\", \"gos\", \"canari\"]:  \n",
        "    print(animal)\n",
        "# En aquest cas la variable, \"animal\", va prenent els valors dins la llista"
      ]
    },
    {
      "cell_type": "markdown",
      "metadata": {
        "id": "S8aFqKcvUqUy"
      },
      "source": [
        "### Inicialització i valors finals\n",
        "\n",
        "Quan usem bucles sovint hem de pensar a inicialitzar algunes variables abans d'entrar al bucle, i a tractar els casos finals després de sortir del bucle."
      ]
    },
    {
      "cell_type": "markdown",
      "metadata": {
        "id": "Rz9BfsGJUqUy"
      },
      "source": [
        "### <span class=\"exercici\">Exercici 1: de for a while</span>\n",
        "\n",
        "Reescriu la següent iteració amb un bucle while"
      ]
    },
    {
      "cell_type": "code",
      "execution_count": null,
      "metadata": {
        "id": "3tNeLYTbUqUy",
        "outputId": "a4ae25f7-31cf-4e1b-c75e-02f5a6eb0c46"
      },
      "outputs": [
        {
          "name": "stdout",
          "output_type": "stream",
          "text": [
            "4\n",
            "6\n",
            "8\n"
          ]
        }
      ],
      "source": [
        "for i in range(4,10,2):\n",
        "    print(i)"
      ]
    },
    {
      "cell_type": "code",
      "execution_count": null,
      "metadata": {
        "id": "718wKZLbUqUy"
      },
      "outputs": [],
      "source": [
        "# escriu aquí la versió amb while"
      ]
    },
    {
      "cell_type": "markdown",
      "metadata": {
        "id": "RRrG1_P5UqUy"
      },
      "source": [
        "### <span class=\"exercici\">Exercici 2: Conversió a dolars</span>\n",
        "\n",
        "Escriu una funció que converteixi dolars en euros per a 100, 200, 300... fins a 1000 dolars. Pots inspirar-te en la funció convert que et donem feta. Fes una versió amb for i una versió amb while."
      ]
    },
    {
      "cell_type": "code",
      "execution_count": null,
      "metadata": {
        "id": "yi6Ch7AkUqUy",
        "outputId": "55a3de0f-4417-477a-ff70-782d7ad0da51"
      },
      "outputs": [
        {
          "name": "stdout",
          "output_type": "stream",
          "text": [
            "Quants dolars vols convertir? 10\n",
            "Amb 10 $, pots obtenir  8.6 €\n"
          ]
        }
      ],
      "source": [
        "def convert():\n",
        "    dolars = int(input(\"Quants dolars vols convertir? \"))\n",
        "    euros = dolars * 0.86\n",
        "    print(\"Amb\", dolars, \"$, pots obtenir \",euros,\"€\")\n",
        "    \n",
        "convert()"
      ]
    },
    {
      "cell_type": "markdown",
      "metadata": {
        "id": "jUo2jfWUUqUz"
      },
      "source": [
        "Quina estructura t'ha semblat més adient per aquest problema (for o while)? Perquè?"
      ]
    },
    {
      "cell_type": "markdown",
      "metadata": {
        "id": "7e2r_5SJUqUz"
      },
      "source": [
        "### <span class=\"exercici\">Exercici 3: Suma múltiples de 4 fins a 10000</span>\n",
        "\n",
        "Fes una funció, ``suma``, que sumi tots els nombres naturals menors que 10000  múltiples de 4. En aquesta funció has de fer servir una variable de tipus *acumulador* que va incrementant-se a cada iteració. Aquest tipus de variables és comú en els bucles."
      ]
    },
    {
      "cell_type": "code",
      "execution_count": null,
      "metadata": {
        "id": "JmC45x5EUqUz"
      },
      "outputs": [],
      "source": [
        "x = 0 \n",
        "for i ...\n",
        "    x += i   # la x funciona com a acumulador\n",
        " "
      ]
    },
    {
      "cell_type": "markdown",
      "metadata": {
        "id": "HKRLmEqxUqUz"
      },
      "source": [
        "<div id=\"peu\">\n",
        "<p><a href=\"https://colab.research.google.com/github/algorismica2020/algorismica2020.github.io/blob/master/notebookscolab/Control.ipynb\"><img style=\"margin:-10px 10px 20px 0\" width=\"150px\" align=\"right\" src=\"https://raw.githubusercontent.com/algorismica2019/problemes/master/assets/colab-badge.png?raw=1\" alt=\"Obrir a Colab\" title=\"Obrir i executar a Google Colaboratory\"></a></p>\n",
        "</div>"
      ]
    }
  ],
  "metadata": {
    "kernelspec": {
      "display_name": "Python 3",
      "language": "python",
      "name": "python3"
    },
    "language_info": {
      "codemirror_mode": {
        "name": "ipython",
        "version": 3
      },
      "file_extension": ".py",
      "mimetype": "text/x-python",
      "name": "python",
      "nbconvert_exporter": "python",
      "pygments_lexer": "ipython3",
      "version": "3.8.3"
    },
    "colab": {
      "provenance": []
    }
  },
  "nbformat": 4,
  "nbformat_minor": 0
}