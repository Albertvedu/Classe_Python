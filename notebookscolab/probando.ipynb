{
  "cells": [
    {
      "cell_type": "markdown",
      "metadata": {
        "id": "_zkQKZmEwtXT"
      },
      "source": [
        "<div id=\"capcalera\">\n",
        "<p><a href=\"https://colab.research.google.com/github/algorismica2020/algorismica2020.github.io/blob/master/notebookscolab/Funcions.ipynb\"><img style=\"margin:-10px 10px 20px 0\" width=\"150px\" align=\"right\" src=\"https://raw.githubusercontent.com/algorismica2019/problemes/master/assets/colab-badge.png?raw=1\" alt=\"Obrir a Colab\" title=\"Obrir i executar a Google Colaboratory\"></a></p>\n",
        "<p style=\"clear:both\"><img align='left' width=\"300px\" style=\"padding-right:10px;float=left\" src=\"https://raw.githubusercontent.com/algorismica2019/problemes/master/assets/al-khwarizmi.png\">Aquest notebook complementa els continguts teòrics de l'assignatura d'<strong>Algorísmica</strong> del Grau d'Enginyeria Informàtica a la <a href=\"https://mat.ub.edu\">Facultat de Matemàtiques i Informàtica</a> de la <a href=\"https://www.ub.edu\">Universitat de Barcelona</a> impartida per <em>Jordi Vitrià</em> i <em>Mireia Ribera</em></p>\n",
        "\n",
        "<p>Els problemes s'ofereixen sota llicència <a href=\"https://creativecommons.org/licenses/by-nc-nd/3.0/us/legalcode\">CC-BY-NC-ND license</a>, i el codi sota <a href=\"https://opensource.org/licenses/MIT\">Llicència MIT</a>.</p>\n",
        "\n",
        "</div>"
      ]
    },
    {
      "cell_type": "markdown",
      "metadata": {
        "id": "m-IGpexVwtXW"
      },
      "source": [
        "# <span class=\"tema\">(Python)</span> Funcions"
      ]
    },
    {
      "cell_type": "markdown",
      "metadata": {
        "id": "AVgi6vLnwtXX"
      },
      "source": [
        "Quan volem fer un seguit d'instruccions repetidament, les posem dins d'una funció. El codi d'una funció no s'executarà fins que la cridem explícitament. Les funcions comencen amb def, el nom de la funció i parèntesi, seguit de :. Les instruccions de dins la funció queden indentades quatre caràcters a la dreta com a mínim per indicar que pertanyen a la funció."
      ]
    },
    {
      "cell_type": "code",
      "execution_count": null,
      "metadata": {
        "id": "npg5_EZrwtXX"
      },
      "outputs": [],
      "source": [
        "def funcio1():\n",
        "    print(\"hola\")\n",
        "    \n",
        "def funcio2():\n",
        "    print(\"a\")"
      ]
    },
    {
      "cell_type": "code",
      "execution_count": null,
      "metadata": {
        "id": "br_CSvsTwtXY",
        "outputId": "2c747fd7-c1f6-421a-bca0-2e2dd7d23ff6"
      },
      "outputs": [
        {
          "name": "stdout",
          "output_type": "stream",
          "text": [
            "hola\n",
            "a\n",
            "hola\n"
          ]
        }
      ],
      "source": [
        "funcio1()\n",
        "funcio2()\n",
        "funcio1()"
      ]
    },
    {
      "cell_type": "markdown",
      "metadata": {
        "id": "pA_Kjj7pwtXY"
      },
      "source": [
        "### Paràmetres: \n",
        "\n",
        "Les funcions amb paràmetres permeten que els indiquem el valor d'algunes variables en el moment de cridar-les. Veiem un exemple d'una funció amb paràmetres i una sense"
      ]
    },
    {
      "cell_type": "code",
      "execution_count": null,
      "metadata": {
        "id": "4HOx5b20wtXZ"
      },
      "outputs": [],
      "source": [
        "def suma():\n",
        "    var1 = 5\n",
        "    var2 = 3\n",
        "    suma_nombres = var1 + var2\n",
        "    print(suma_nombres)"
      ]
    },
    {
      "cell_type": "markdown",
      "metadata": {
        "id": "1smU2mn5wtXZ"
      },
      "source": [
        "Amb aquesta funció només puc sumar els valors 5 i 3, que són els que estan escrits en el codi."
      ]
    },
    {
      "cell_type": "code",
      "execution_count": null,
      "metadata": {
        "id": "RWFbCnzuwtXa"
      },
      "outputs": [],
      "source": [
        "def suma2 (var1, var2):\n",
        "    suma_nombres = var1 + var2\n",
        "    print(suma_nombres)"
      ]
    },
    {
      "cell_type": "code",
      "execution_count": null,
      "metadata": {
        "id": "QiOjXwHmwtXa",
        "outputId": "aed58cbe-b63b-488b-8782-0f6ff99e8051"
      },
      "outputs": [
        {
          "name": "stdout",
          "output_type": "stream",
          "text": [
            "8\n",
            "3\n"
          ]
        }
      ],
      "source": [
        "suma2(3, 5)\n",
        "suma2(1, 2)"
      ]
    },
    {
      "cell_type": "markdown",
      "metadata": {
        "id": "KjCCYfq_wtXb"
      },
      "source": [
        "Amb aquesta funció puc sumar qualssevol valors perquè els indico amb els paràmetres."
      ]
    },
    {
      "cell_type": "markdown",
      "metadata": {
        "id": "ATX1UThhwtXb"
      },
      "source": [
        "### <span class=\"exercici\">Exercici 1:  Fes una funció amb dos paràmetres i que en retorni la divisió</span>"
      ]
    },
    {
      "cell_type": "code",
      "execution_count": null,
      "metadata": {
        "id": "Y0d0N0PYwtXb"
      },
      "outputs": [],
      "source": [
        "# Escriu el teu codi aquí"
      ]
    },
    {
      "cell_type": "markdown",
      "metadata": {
        "id": "t38R8TBAwtXb"
      },
      "source": [
        "### Descomposició en funcions\n",
        "\n",
        "En cursos més avançats realitzareu funcions força complexes que consistiran en molts passos. I en l'entorn laboral sovint aquestes funcions complexes repeteixen codi ja fet.\n",
        "\n",
        "Per tal de facilitar la reutilització del codi, i facilitar el manteniment i llegibilitat, es recomana descomposar les funcions en parts petites amb significat.\n",
        "\n",
        "Quan us enfronteu amb un problema, heu de mirar d'identificar aquelles parts del codi que resolen un problema i separar-les del codi principal.\n",
        "Finalment, hi haurà una funció principal, que anirà cridant aquestes funcions més petites de forma ordenada, per resoldre el problema gran."
      ]
    },
    {
      "cell_type": "markdown",
      "metadata": {
        "id": "sRxV5HsDwtXc"
      },
      "source": [
        "### <span class=\"exercici\">Exercici 2:  Escriu una funció a la que li passis el teu nom i l'edat i et saludi dient-te quants anys et falten per arribar a 100. Descomposa la funció en dos, i fes-ne una que donat un enter et digui quant falta per a 100.\n",
        "\n",
        "Per exemple: salutacio(\"Aina\", 25)  => Hola Aina, et falten 75 anys per arribar a 100.</span>"
      ]
    },
    {
      "cell_type": "code",
      "execution_count": null,
      "metadata": {
        "id": "CkBA8SRIwtXc"
      },
      "outputs": [],
      "source": [
        "def falta_100(n):\n",
        "    \n",
        "    return 100-n\n",
        "\n"
      ]
    },
    {
      "cell_type": "code",
      "execution_count": 9,
      "metadata": {
        "colab": {
          "base_uri": "https://localhost:8080/"
        },
        "id": "LuhW42JewtXc",
        "outputId": "d9bae309-86fe-4364-d3b3-c91a6eb31074"
      },
      "outputs": [
        {
          "output_type": "stream",
          "name": "stdout",
          "text": [
            "Com et diut: Albert\n",
            "Quants anys tens: 2\n",
            "\n",
            "Et quedan  98 anys per arribar a 100, si es que hi arribas\n"
          ]
        }
      ],
      "source": [
        "def falta_100(edat):\n",
        "    \n",
        "    return 100-edat\n",
        "\n",
        "def quants_anys(nom,edat):\n",
        "        x = falta_100(edat)\n",
        "        print(\"\\n5Et quedan \", x, \"anys per arribar a 100, si es que hi arribas\")\n",
        "\n",
        "\n",
        "nom = str(input(\"Com et diut: \"))\n",
        "edat = int(input(\"Quants anys tens: \"))\n",
        "quants_anys(nom, edat)        "
      ]
    },
    {
      "cell_type": "markdown",
      "metadata": {
        "id": "sE1NSNdAwtXc"
      },
      "source": [
        "<div id=\"peu\">\n",
        "<p><a href=\"https://colab.research.google.com/github/algorismica2020/algorismica2020.github.io/blob/master/notebookscolab/Funcions.ipynb\"><img style=\"margin:-10px 10px 20px 0\" width=\"150px\" align=\"right\" src=\"https://raw.githubusercontent.com/algorismica2019/problemes/master/assets/colab-badge.png?raw=1\" alt=\"Obrir a Colab\" title=\"Obrir i executar a Google Colaboratory\"></a></p>\n",
        "</div>"
      ]
    }
  ],
  "metadata": {
    "kernelspec": {
      "display_name": "Python 3",
      "language": "python",
      "name": "python3"
    },
    "language_info": {
      "codemirror_mode": {
        "name": "ipython",
        "version": 3
      },
      "file_extension": ".py",
      "mimetype": "text/x-python",
      "name": "python",
      "nbconvert_exporter": "python",
      "pygments_lexer": "ipython3",
      "version": "3.8.3"
    },
    "colab": {
      "provenance": []
    }
  },
  "nbformat": 4,
  "nbformat_minor": 0
}