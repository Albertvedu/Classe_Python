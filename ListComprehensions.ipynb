{
  "cells": [
    {
      "cell_type": "markdown",
      "metadata": {
        "id": "HjDne1QCVLcS"
      },
      "source": [
        "\n",
        "<div id=\"capcalera\">\n",
        "<p><a href=\"https://colab.research.google.com/github/algorismica2019/problemes/blob/master/ListComprehensions.ipynb\"><img style=\"margin:-10px 10px 20px 0\" width=\"150px\" align=\"right\" src=\"https://raw.githubusercontent.com/algorismica2019/problemes/master/assets/colab-badge.png?raw=1\" alt=\"Obrir a Colab\" title=\"Obrir i executar a Google Colaboratory\"></a></p>\n",
        "<p style=\"clear:both\"><img align='left' width=\"300px\" style=\"padding-right:10px;float=left\" src=\"https://raw.githubusercontent.com/algorismica2019/problemes/master/assets/al-khwarizmi.png\">Aquest notebook forma part dels continguts teòrics dels problemes de l'assignatura d'<strong>Algorísmica</strong> del Grau d'Enginyeria Informàtica a la <a href=\"https://mat.ub.edu\">Facultat de Matemàtiques i Informàtica</a> de la <a href=\"https://www.ub.edu\">Universitat de Barcelona</a> impartida per <em>Jordi Vitrià</em> i <em>Mireia Ribera</em></p>\n",
        "\n",
        "<p>Els problemes s'ofereixen sota llicència <a href=\"https://creativecommons.org/licenses/by-nc-nd/3.0/us/legalcode\">CC-BY-NC-ND license</a>, i el codi sota <a href=\"https://opensource.org/licenses/MIT\">Llicència MIT</a>.</p>\n",
        "\n",
        "<p style=\"clear:both;text-align:center\">&lt; <a href=\"Complexiat.ipynb\">Complexitat</a> | <a href=\"Teoria.ipynb\">Explicacions teòriques</a> | <a href=\"LListatProblemes.ipynb\">LListat de problemes</a> | <a href=\"ExpressionsRegulars.ipynb\">Expressions regulars</a> &gt; </p>\n",
        "\n",
        "</div>"
      ]
    },
    {
      "cell_type": "markdown",
      "metadata": {
        "id": "7dyriHUCVLcY"
      },
      "source": [
        "# <span class=\"tema\">( Continguts teòrics)</span> List comprehensions"
      ]
    },
    {
      "cell_type": "markdown",
      "metadata": {
        "id": "LNYFoS7pVLcZ"
      },
      "source": [
        "## List comprehensions\n",
        "\n",
        "Per crear llistes de manera molt eficient, podem usar les list comprehensions."
      ]
    },
    {
      "cell_type": "code",
      "execution_count": null,
      "metadata": {
        "id": "4M65L6U9VLca",
        "outputId": "7629d741-2942-4e4b-c3e5-38331c9350e8"
      },
      "outputs": [
        {
          "name": "stdout",
          "output_type": "stream",
          "text": [
            "[0, 1, 4, 9, 16, 25, 36, 49, 64, 81]\n",
            "[0, 1, 4, 9, 16, 25, 36, 49, 64, 81]\n"
          ]
        }
      ],
      "source": [
        "# Exemple de creació de la llista dels quadrats de 1 a 10 a la manera clàssica\n",
        "quadrats = []\n",
        "for x in range(10):\n",
        "    quadrats.append(x ** 2)\n",
        "print(quadrats)\n",
        "\n",
        "# Exemple de creació de la llista de quadrats de 1 a 10 amb list comprehensions\n",
        "quadrats2 = [x ** 2 for x in range(10)] # primer indiquem l'expressió que anirà omplint la llista, després el rang de valors \n",
        "                                    # i podem posteriorment indicar altres rangs o condicions\n",
        "print(quadrats2)\n",
        "\n",
        "#Tot i que la complexitat és la mateixa, la segona instrucció s'executa més ràpidament i amb menys recursos que la primera"
      ]
    },
    {
      "cell_type": "code",
      "execution_count": null,
      "metadata": {
        "id": "PXClp1WkVLcb"
      },
      "outputs": [],
      "source": [
        "# Exemple 1: Traducció a list comprehension de la següent estructura\n",
        "\n",
        "combinacions=[]\n",
        "for x in [1, 2, 3]:\n",
        "    for y in [3, 1, 4]:\n",
        "        if x != y:\n",
        "            combinacions.append((x, y))\n",
        "print(combinacions)\n",
        "\n",
        "# combinacions2 = [ expressió que ha d'omplir la llista for més extern, for segon més extern, if]\n",
        "\n",
        "combinacions2 = [(x, y) for x in [1, 2, 3] for y in [3, 1, 4] if x != y]\n",
        "print(combinacions2)"
      ]
    },
    {
      "cell_type": "markdown",
      "metadata": {
        "id": "PZDtRtq6VLcc"
      },
      "source": [
        "Les comprehensions de les llistes són una eina per transformar una llista (qualsevol iterable en realitat) en una altra llista. Durant aquesta transformació, els elements es poden incloure de manera condicional a la nova llista i cada element es pot transformar segons sigui necessari.\n",
        "\n",
        "Cada comprehension es pot reescriure com un bucle sobre la lista, però no tot bucle es pot reescriure com a list comprehension.\n",
        "\n",
        "Començant pel cas més senzill, una list comprehension com aquesta:\n",
        "\n",
        "```python\n",
        "a = [func(element) for element in sequence]\n",
        "```\n",
        "\n",
        "és equivalent a:\n",
        "\n",
        "```python\n",
        "a = []\n",
        "for element in sequence:\n",
        "    a.append(func(element))\n",
        "```\n",
        "\n",
        "De la mateixa manera que podeu afegir `for` addicionals als bucles i condicions `if` dins dels bucles, també podeu afegir-les a la comprensió.\n",
        "\n",
        "La clau a entendre és que l'ordre d'esquerra a dreta en la comprehennsion assigna el mateix ordre als bucles explícits:\n",
        "\n",
        "```python\n",
        "a = [func(element) for subseq in seq2d for element in subseq if pred(element)]\n",
        "\n",
        "a = []\n",
        "for subseq in seq2d:\n",
        "    for element in subseq:\n",
        "        if pred(element):\n",
        "            a.append(func(element))\n",
        "```\n",
        "\n",
        "També podem usar les list comprehensions per a fer combinacions:"
      ]
    },
    {
      "cell_type": "code",
      "execution_count": null,
      "metadata": {
        "id": "blMQ-B0MVLcd",
        "outputId": "b346fb24-eb76-4c11-bc74-3da6e91dd6ba"
      },
      "outputs": [
        {
          "data": {
            "text/plain": [
              "['ADG',\n",
              " 'ADH',\n",
              " 'ADI',\n",
              " 'AEG',\n",
              " 'AEH',\n",
              " 'AEI',\n",
              " 'AFG',\n",
              " 'AFH',\n",
              " 'AFI',\n",
              " 'BDG',\n",
              " 'BDH',\n",
              " 'BDI',\n",
              " 'BEG',\n",
              " 'BEH',\n",
              " 'BEI',\n",
              " 'BFG',\n",
              " 'BFH',\n",
              " 'BFI',\n",
              " 'CDG',\n",
              " 'CDH',\n",
              " 'CDI',\n",
              " 'CEG',\n",
              " 'CEH',\n",
              " 'CEI',\n",
              " 'CFG',\n",
              " 'CFH',\n",
              " 'CFI']"
            ]
          },
          "execution_count": 2,
          "metadata": {},
          "output_type": "execute_result"
        }
      ],
      "source": [
        "[a+b+c for a in ['A','B','C'] for b in ['D','E','F'] for c in ['G','H','I']]"
      ]
    },
    {
      "cell_type": "code",
      "source": [
        "def funcio():\n",
        "  l = []\n",
        "  for a in ['A','B','C']:\n",
        "     for b in ['D','E','F']:\n",
        "        for c in ['G','H','I']:\n",
        "          l.append(a+b+c)\n",
        "\n",
        "  return l\n",
        "\n",
        "funcio()"
      ],
      "metadata": {
        "colab": {
          "base_uri": "https://localhost:8080/"
        },
        "id": "ZyFXQULIYFB-",
        "outputId": "38fe30eb-7810-4c91-fb2d-ee2b90e63131"
      },
      "execution_count": 3,
      "outputs": [
        {
          "output_type": "execute_result",
          "data": {
            "text/plain": [
              "['ADG',\n",
              " 'ADH',\n",
              " 'ADI',\n",
              " 'AEG',\n",
              " 'AEH',\n",
              " 'AEI',\n",
              " 'AFG',\n",
              " 'AFH',\n",
              " 'AFI',\n",
              " 'BDG',\n",
              " 'BDH',\n",
              " 'BDI',\n",
              " 'BEG',\n",
              " 'BEH',\n",
              " 'BEI',\n",
              " 'BFG',\n",
              " 'BFH',\n",
              " 'BFI',\n",
              " 'CDG',\n",
              " 'CDH',\n",
              " 'CDI',\n",
              " 'CEG',\n",
              " 'CEH',\n",
              " 'CEI',\n",
              " 'CFG',\n",
              " 'CFH',\n",
              " 'CFI']"
            ]
          },
          "metadata": {},
          "execution_count": 3
        }
      ]
    },
    {
      "cell_type": "code",
      "source": [],
      "metadata": {
        "id": "xdnu-oXlX_al"
      },
      "execution_count": null,
      "outputs": []
    },
    {
      "cell_type": "markdown",
      "metadata": {
        "id": "KbiaR1c1VLce"
      },
      "source": [
        "### <span class=\"exercici\">Exercici 1: Escriu en forma de list comprehension les següents llistes</span>\n",
        "\n",
        "1. Fer una llista amb tots els números fins a 10\n",
        "2. Fer una llista amb tots ls números fins a 10 múltiples de 2\n",
        "3. Fer una llista amb totes les parelles (i, j) amb i de 0 a 2 i amb j de 0 a 3\n",
        "4. Fer una llista amb tots els números divisibles per 3 menors a 20\n",
        "5. Fer una llista amb tots els números __anteriors__ als divisibles per 3 menors a 20\n",
        "6. Fer una llista amb totes les parelles de numeros positius menors a 20 que sumin 18\n",
        "7. Fer una llista amb els múltiples de 3 i 5 menors que 1000. Després calcula la suma de tots els elements de la llista\n",
        "8. Fer una llista amb els valors de 100 a 1000, múltiples de 10, en ordre invers. És a dir 1000, 990, 980..."
      ]
    },
    {
      "cell_type": "code",
      "execution_count": null,
      "metadata": {
        "id": "NYQ8Jp9fVLcf",
        "outputId": "033dd1f7-2c7b-4f61-cdef-8fbf56b63623"
      },
      "outputs": [
        {
          "data": {
            "text/html": [
              "<style><style>\n",
              "\n",
              "@import url('http://fonts.googleapis.com/css?family=Source+Code+Pro');\n",
              "@import url('http://fonts.googleapis.com/css?family=Lora');\n",
              "\n",
              "/*   adapted from https://github.com/edwardtufte/et-book/blob/gh-pages/et-book.css */\n",
              "\n",
              "@charset \"UTF-8\";\n",
              "\n",
              "@font-face {\n",
              "  font-family: \"et-book\";\n",
              "  src: url(\"et-book/roman-line-figures.ttf\") format(\"truetype\");\n",
              "  font-weight: normal;\n",
              "  font-style: normal\n",
              "}\n",
              "\n",
              "@font-face {\n",
              "  font-family: \"et-book\";\n",
              "  src: url(\"et-book/display-italic-old-style-figures.ttf\") format(\"truetype\");\n",
              "  font-weight: normal;\n",
              "  font-style: italic\n",
              "}\n",
              "\n",
              "@font-face {\n",
              "  font-family: \"et-book\";\n",
              "  src: url(\"et-book/bold-line-figures.ttf\") format(\"truetype\");\n",
              "  font-weight: bold;\n",
              "  font-style: normal\n",
              "}\n",
              "\n",
              "@font-face {\n",
              "  font-family: \"et-book-roman-old-style\";\n",
              "  src: url(\"et-book/roman-old-style-figures.ttf\") format(\"truetype\");\n",
              "  font-weight: normal;\n",
              "  font-style: normal;\n",
              "}\n",
              "\n",
              "html {\n",
              "       font-size: 15px !important;\n",
              "}\n",
              "\n",
              ".tema, h1 span { font-size: 14pt;\n",
              "\tfont-style: italic;\n",
              "\tfont-weight: 100;}\n",
              "\n",
              "#capcalera {\tfont-family:Arial;\n",
              "\t\tfont-size:12pt;\n",
              "\t\tbackground-color:#fff1f1;\n",
              "\t\tpadding:5px;\n",
              "\t\t}\n",
              "#peu {\tfont-family:Arial;\n",
              "\tfont-size:12pt;\n",
              "\tbackground-color:#fff1f1;\n",
              "\tpadding:2px;\n",
              "\tline-height:1}\n",
              "\n",
              ".exercici {color:#a60d0d;\n",
              "\t   /* border-width:0 0 2px 2px !important;\n",
              "\t   border-style:solid !important;\n",
              "\t   border-color:#5e3333 !important; */ }\n",
              "\n",
              ".explicacio {}\n",
              "\n",
              ".avaluacio {}\n",
              "\n",
              "\n",
              "#notebook-container, .notebook_cell_list {\n",
              "       font-size: 1rem !important;\n",
              "       line-height: 1.5 !important;\n",
              "       width: 100%  !important;\n",
              "       margin-left: auto !important;\n",
              "       margin-right: auto !important;\n",
              "       padding-left: 12.5% !important;\n",
              "       font-family: et-book, Palatino, \"Palatino Linotype\", \"Palatino LT STD\", \"Book Antiqua\", Georgia, serif  !important;\n",
              "       background-color: #fffff8 !important;\n",
              "       color: #111 !important;\n",
              "       max-width: 1400px !important; }\n",
              "\n",
              " .rendered .input_prompt {\n",
              "\t min-width:0 !important; } \n",
              "\n",
              ".text_cell_render h1, .markdown h1 { \n",
              "     font-weight: 400;\n",
              "     font-style: normal;\n",
              "     margin-top: 0rem;\n",
              "     margin-bottom: 0rem;\n",
              "     font-size: 2rem; }\n",
              "\n",
              " .text_cell_render h2 { font-style: italic;\n",
              "     font-weight: 400;\n",
              "     font-size: 1.5rem;\n",
              "     margin-top: 1.5rem;\n",
              "     margin-bottom: 1.5em; }\n",
              "\n",
              " .text_cell_render h3 { font-style: italic;\n",
              "             font-weight: 400;\n",
              "             margin-top: 1rem;\n",
              "             margin-bottom: 1rem;\n",
              "             font-size: 1.2rem;\n",
              "             display: block; }\n",
              "\n",
              " .text_cell_render h4 {\n",
              "    font-size: 1.1rem;\n",
              "    font-weight: 400;\n",
              "    margin: 1rem auto; }\n",
              "\n",
              ".rendered_html p { \n",
              "\tfont-size: 1rem !important; \n",
              "    \tmargin-top: 1rem !important;;\n",
              "    \tmargin-bottom: 1rem !important;;\n",
              "    \tpadding-right: 0 !important;;\n",
              "    \tvertical-align: baseline !important;; }\n",
              "\n",
              ".rendered_html blockquote { font-size: 1.1rem !important;}\n",
              "\n",
              ".rendered_html ol, ul { width: 75% !important;; }\n",
              "\n",
              ".rendered_html li { padding: 0.5rem 0 !important;; }\n",
              "\n",
              ".rendered_html table {\n",
              "  border-top: 2px solid #111 !important;\n",
              "  border-bottom: 2px solid #111 !important;\n",
              "  font-size: 0.8rem !important;\n",
              "}\n",
              "\n",
              ".rendered_html th {\n",
              "  border-bottom: 1px solid #111 !important;\n",
              "}\n",
              "\t \n",
              ".rendered_html a { text-decoration: none !important;\n",
              "         background: linear-gradient(#fffff8, #fffff8), linear-gradient(#fffff8, #fffff8), linear-gradient(#333, #333);\n",
              "         background-size: 0.05em 1px, 0.05em 1px, 1px 1px;\n",
              "         background-repeat: no-repeat, no-repeat, repeat-x;\n",
              "         text-shadow: 0.03em 0 #fffff8, -0.03em 0 #fffff8, 0 0.03em #fffff8, 0 -0.03em #fffff8, 0.06em 0 #fffff8, -0.06em 0 #fffff8, 0.09em 0 #fffff8, -0.09em 0 #fffff8, 0.12em 0 #fffff8, -0.12em 0 #fffff8, 0.15em 0 #fffff8, -0.15em 0 #fffff8;\n",
              "         background-position: 0% 93%, 100% 93%, 0% 93%; }\n",
              "\n",
              ".rendered_html a:link::selection { text-shadow: 0.03em 0 #b4d5fe, -0.03em 0 #b4d5fe, 0 0.03em #b4d5fe, 0 -0.03em #b4d5fe, 0.06em 0 #b4d5fe, -0.06em 0 #b4d5fe, 0.09em 0 #b4d5fe, -0.09em 0 #b4d5fe, 0.12em 0 #b4d5fe, -0.12em 0 #b4d5fe, 0.15em 0 #b4d5fe, -0.15em 0 #b4d5fe;\n",
              "                    background: #b4d5fe; }\n",
              " \n",
              ".rendered_html pre { \n",
              "\tborder:1px solid #cccccc !important; }\n",
              "\n",
              ".rendered_html * code { \n",
              "\tfont-size: 1rem !important;\n",
              "        line-height: 1.5 !important;\n",
              "\tfont-family: Consolas, \"Liberation Mono\", Menlo, Courier, monospace !important;\n",
              "\tbackground-color: #fff !important }\n",
              "</style> \n",
              "<script>\n",
              "    MathJax.Hub.Config({\n",
              "                        TeX: {\n",
              "                           extensions: [\"AMSmath.js\"],\n",
              "                           equationNumbers: { autoNumber: \"AMS\", useLabelIds: true}\n",
              "                           },\n",
              "                tex2jax: {\n",
              "                    inlineMath: [ ['$','$'], [\"\\\\(\",\"\\\\)\"] ],\n",
              "                    displayMath: [ ['$$','$$'], [\"\\\\[\",\"\\\\]\"] ]\n",
              "                },\n",
              "                displayAlign: 'center', // Change this to 'center' to center equations.\n",
              "                \"HTML-CSS\": {\n",
              "                    scale: 95,\n",
              "                        availableFonts: [],\n",
              "                        preferredFont:null,\n",
              "                        webFont: \"TeX\",\n",
              "                    styles: {'.MathJax_Display': {\"margin\": 4}}\n",
              "                },\n",
              "                 \"fast-preview\": {\n",
              "                    \"disabled\": false\n",
              "                }\n",
              "        });\n",
              "</script>\n",
              "</style>"
            ],
            "text/plain": [
              "<IPython.core.display.HTML object>"
            ]
          },
          "execution_count": 1,
          "metadata": {},
          "output_type": "execute_result"
        }
      ],
      "source": [
        "# Executar aquesta cel.la per donar estil al notebook\n",
        "from IPython.core.display import HTML\n",
        "import requests\n",
        "style=requests.get('https://raw.githubusercontent.com/algorismica2019/problemes/master/assets/prova.css').text\n",
        "HTML('<style>{}</style>'.format(style))"
      ]
    },
    {
      "cell_type": "code",
      "source": [
        "def exer_1():\n",
        "  return [i for i in range(11)]\n",
        "\n",
        "exer_1()"
      ],
      "metadata": {
        "colab": {
          "base_uri": "https://localhost:8080/"
        },
        "id": "oMR6L-npag_w",
        "outputId": "d41251ce-fc02-4241-a30b-9b95ffbf6f79"
      },
      "execution_count": 6,
      "outputs": [
        {
          "output_type": "execute_result",
          "data": {
            "text/plain": [
              "[0, 1, 2, 3, 4, 5, 6, 7, 8, 9, 10]"
            ]
          },
          "metadata": {},
          "execution_count": 6
        }
      ]
    },
    {
      "cell_type": "code",
      "source": [
        "def exer_2():\n",
        "  return [i for i in range(0,11,2)]\n",
        "\n",
        "exer_2()"
      ],
      "metadata": {
        "colab": {
          "base_uri": "https://localhost:8080/"
        },
        "id": "Xg_MGhEAa-2b",
        "outputId": "6ddaa685-6289-439f-d39d-641637c968ca"
      },
      "execution_count": 7,
      "outputs": [
        {
          "output_type": "execute_result",
          "data": {
            "text/plain": [
              "[0, 2, 4, 6, 8, 10]"
            ]
          },
          "metadata": {},
          "execution_count": 7
        }
      ]
    },
    {
      "cell_type": "code",
      "source": [
        "def exer_3():\n",
        "  return [(i,j) for i in range(3) for j in range(4)]\n",
        "\n",
        "print(exer_3())"
      ],
      "metadata": {
        "colab": {
          "base_uri": "https://localhost:8080/"
        },
        "id": "7iT6WHOEbO1r",
        "outputId": "c57fdd9f-cf0b-4291-86c4-a6a30d7832c9"
      },
      "execution_count": 12,
      "outputs": [
        {
          "output_type": "stream",
          "name": "stdout",
          "text": [
            "[(0, 0), (0, 1), (0, 2), (0, 3), (1, 0), (1, 1), (1, 2), (1, 3), (2, 0), (2, 1), (2, 2), (2, 3)]\n"
          ]
        }
      ]
    },
    {
      "cell_type": "code",
      "source": [
        "def exer_4():\n",
        "  return [ i for i in range(21) if i%3 == 0 ]\n",
        "\n",
        "print(exer_4())"
      ],
      "metadata": {
        "colab": {
          "base_uri": "https://localhost:8080/"
        },
        "id": "1lPVhunab2cW",
        "outputId": "2e1670f6-a8ed-44c4-e265-3426c5690801"
      },
      "execution_count": 15,
      "outputs": [
        {
          "output_type": "stream",
          "name": "stdout",
          "text": [
            "[0, 3, 6, 9, 12, 15, 18]\n"
          ]
        }
      ]
    },
    {
      "cell_type": "code",
      "source": [
        "def exer_5():\n",
        "  return [ i-1 for i in range(21) if i%3 == 0 ]\n",
        "\n",
        "print(exer_5())"
      ],
      "metadata": {
        "colab": {
          "base_uri": "https://localhost:8080/"
        },
        "id": "hrqMeMQocjBY",
        "outputId": "ad618fc0-7181-4825-bbfa-9b9b41767f8f"
      },
      "execution_count": 20,
      "outputs": [
        {
          "output_type": "stream",
          "name": "stdout",
          "text": [
            "[-1, 2, 5, 8, 11, 14, 17]\n"
          ]
        }
      ]
    },
    {
      "cell_type": "code",
      "source": [
        "def exer_6():\n",
        "  return [ (i, j) for i in range(21) for j in range(21) if i+j == 18 ]\n",
        "\n",
        "print(exer_6())"
      ],
      "metadata": {
        "colab": {
          "base_uri": "https://localhost:8080/"
        },
        "id": "EXiVsodYdLaT",
        "outputId": "e86223e5-cd12-4d39-b7ce-fb103ecdab3b"
      },
      "execution_count": 22,
      "outputs": [
        {
          "output_type": "stream",
          "name": "stdout",
          "text": [
            "[(0, 18), (1, 17), (2, 16), (3, 15), (4, 14), (5, 13), (6, 12), (7, 11), (8, 10), (9, 9), (10, 8), (11, 7), (12, 6), (13, 5), (14, 4), (15, 3), (16, 2), (17, 1), (18, 0)]\n"
          ]
        }
      ]
    },
    {
      "cell_type": "code",
      "source": [
        "def exer_7():\n",
        "  return [ i for i in range(1001) if i%3 == 0 if i % 5 == 0]\n",
        "\n",
        "print(exer_7())"
      ],
      "metadata": {
        "id": "hDNcecn-eS6C",
        "outputId": "b91f4db2-96ff-4803-eab0-95d4deb9d491",
        "colab": {
          "base_uri": "https://localhost:8080/"
        }
      },
      "execution_count": 23,
      "outputs": [
        {
          "output_type": "stream",
          "name": "stdout",
          "text": [
            "[0, 15, 30, 45, 60, 75, 90, 105, 120, 135, 150, 165, 180, 195, 210, 225, 240, 255, 270, 285, 300, 315, 330, 345, 360, 375, 390, 405, 420, 435, 450, 465, 480, 495, 510, 525, 540, 555, 570, 585, 600, 615, 630, 645, 660, 675, 690, 705, 720, 735, 750, 765, 780, 795, 810, 825, 840, 855, 870, 885, 900, 915, 930, 945, 960, 975, 990]\n"
          ]
        }
      ]
    },
    {
      "cell_type": "code",
      "source": [
        "def exer_8():\n",
        "  return [ i for i in range(1000, 100, -10)]\n",
        "\n",
        "print(exer_8())"
      ],
      "metadata": {
        "id": "VB7ABaRBevhb",
        "outputId": "a7e74780-b783-4412-bc22-c87dbab080b9",
        "colab": {
          "base_uri": "https://localhost:8080/"
        }
      },
      "execution_count": 24,
      "outputs": [
        {
          "output_type": "stream",
          "name": "stdout",
          "text": [
            "[1000, 990, 980, 970, 960, 950, 940, 930, 920, 910, 900, 890, 880, 870, 860, 850, 840, 830, 820, 810, 800, 790, 780, 770, 760, 750, 740, 730, 720, 710, 700, 690, 680, 670, 660, 650, 640, 630, 620, 610, 600, 590, 580, 570, 560, 550, 540, 530, 520, 510, 500, 490, 480, 470, 460, 450, 440, 430, 420, 410, 400, 390, 380, 370, 360, 350, 340, 330, 320, 310, 300, 290, 280, 270, 260, 250, 240, 230, 220, 210, 200, 190, 180, 170, 160, 150, 140, 130, 120, 110]\n"
          ]
        }
      ]
    },
    {
      "cell_type": "markdown",
      "metadata": {
        "id": "IlsOXMaUVLcf"
      },
      "source": [
        "<div id=\"peu\">\n",
        "<p><a href=\"https://colab.research.google.com/github/algorismica2019/problemes/blob/master/ListComprehensions.ipynb\"><img style=\"margin:-10px 10px 20px 0\" width=\"150px\" align=\"right\" src=\"https://raw.githubusercontent.com/algorismica2019/problemes/master/assets/colab-badge.png?raw=1\" alt=\"Obrir a Colab\" title=\"Obrir i executar a Google Colaboratory\"></a></p>\n",
        "<p style=\"clear:both;text-align:center\">&lt; <a href=\"Complexiat.ipynb\">Complexitat</a> | <a href=\"Teoria.ipynb\">Explicacions teòriques</a> | <a href=\"LListatProblemes.ipynb\">LListat de problemes</a> | <a href=\"ExpressionsRegulars.ipynb\">Expressions regulars</a> &gt; </p>\n",
        "</div>"
      ]
    }
  ],
  "metadata": {
    "kernelspec": {
      "display_name": "Python 3",
      "language": "python",
      "name": "python3"
    },
    "language_info": {
      "codemirror_mode": {
        "name": "ipython",
        "version": 3
      },
      "file_extension": ".py",
      "mimetype": "text/x-python",
      "name": "python",
      "nbconvert_exporter": "python",
      "pygments_lexer": "ipython3",
      "version": "3.7.3"
    },
    "colab": {
      "provenance": []
    }
  },
  "nbformat": 4,
  "nbformat_minor": 0
}